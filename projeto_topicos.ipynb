{
 "cells": [
  {
   "cell_type": "code",
   "execution_count": 15,
   "metadata": {
    "colab": {},
    "colab_type": "code",
    "id": "dgocgKv0jLPN"
   },
   "outputs": [],
   "source": [
    "import pandas as pd\n",
    "from sklearn.model_selection import train_test_split \n",
    "from sklearn import metrics \n",
    "from sklearn.datasets import load_iris\n",
    "import matplotlib.pyplot as plt\n",
    "from sklearn import preprocessing\n",
    "from sklearn.tree import DecisionTreeClassifier \n",
    "from sklearn.neighbors import KNeighborsClassifier\n",
    "from sklearn.neural_network import MLPClassifier\n",
    "import numpy as np\n",
    "from sklearn.cluster import KMeans\n",
    "\n",
    "def split_data(data_frame, feature_cols, result_col):\n",
    "    X = data_frame[feature_cols]\n",
    "    y = data_frame[result_col]\n",
    "    X_train, X_test, y_train, y_test = train_test_split(X, y, test_size=0.2, random_state=1)\n",
    "    return {'X_train': X_train, 'X_test': X_test, 'y_train': y_train, 'y_test': y_test}\n",
    "\n"
   ]
  },
  {
   "cell_type": "code",
   "execution_count": 36,
   "metadata": {
    "colab": {
     "base_uri": "https://localhost:8080/",
     "height": 415
    },
    "colab_type": "code",
    "id": "YiuBSfrpC9XX",
    "outputId": "cb5d92f2-fcbf-4661-abd8-01f2624d0eca"
   },
   "outputs": [],
   "source": [
    "def ml_tasks(X_train, X_test, y_train, y_test, n_classes):\n",
    "    #Tree\n",
    "    dtc = DecisionTreeClassifier()\n",
    "    dtc = dtc.fit(X_train, y_train)\n",
    "    y_pred_dtc = dtc.predict(X_test)\n",
    "\n",
    "    #KNN5\n",
    "    knn = KNeighborsClassifier(n_neighbors=5)\n",
    "    knn.fit(X_train, y_train)\n",
    "    y_pred_knn = knn.predict(X_test)\n",
    "\n",
    "    #KNN10\n",
    "    knn10 = KNeighborsClassifier(n_neighbors=10)\n",
    "    knn10.fit(X_train, y_train)\n",
    "\n",
    "    y_pred_knn10 = knn10.predict(X_test)\n",
    "\n",
    "    #MLP\n",
    "    mlp = MLPClassifier(hidden_layer_sizes=(100,100,100), max_iter=500, alpha=0.0001,\n",
    "                      verbose=10,  random_state=21,tol=0.000000001)\n",
    "    mlp = mlp.fit(X_train, y_train)\n",
    "    y_pred_mlp = mlp.predict(X_test)\n",
    "\n",
    "    plt.ylabel('Custo')\n",
    "    plt.xlabel('Iteração')\n",
    "    plt.title(\"Learning rate =\" + str(0.001))\n",
    "    #loss_curve = plt.plot(mlp.loss_curve_)\n",
    "    loss_curve = mlp.loss_curve_\n",
    "    plt.show()\n",
    "\n",
    "    #Kmeans\n",
    "    kmeans = KMeans(n_clusters=n_classes)\n",
    "    kmeans = kmeans.fit(X_train,y_train)\n",
    "    y_pred_kmeans = kmeans.predict(X_test)\n",
    "    \n",
    "    cont = 0\n",
    "    i = 0\n",
    "    for pred in y_test:\n",
    "        if pred == y_pred_kmeans[i]:\n",
    "            cont = cont + 1\n",
    "        i = i+1\n",
    "        \n",
    "    print(cont, y_test.size)\n",
    "\n",
    "    # centroides\n",
    "    centroids = kmeans.cluster_centers_\n",
    "\n",
    "    #Taxa de acertos\n",
    "    tree_accuracy = metrics.accuracy_score(y_test, y_pred_dtc) * 100\n",
    "    knn_accuracy = metrics.accuracy_score(y_test, y_pred_knn) * 100\n",
    "    knn10_accuracy = metrics.accuracy_score(y_test, y_pred_knn10) * 100\n",
    "    mlp_accuracy = metrics.accuracy_score(y_test, y_pred_mlp) * 100\n",
    "    kmeans_accuracy = metrics.accuracy_score (y_test,y_pred_kmeans) * 100\n",
    "    \n",
    "    Data = {'Tree': tree_accuracy, 'Knn5': knn_accuracy, 'knn10': knn10_accuracy, 'mlp': mlp_accuracy, 'kmeans': kmeans_accuracy }\n",
    "    report = {'taxa de acerto': Data, 'loss_curve': loss_curve}\n",
    "    # #Número de erros\n",
    "    tree_errors =(data_frame.size/tree_accuracy)\n",
    "    knn_errors = (data_frame.size/knn_accuracy)\n",
    "    knn10_errors = (data_frame.size/knn10_accuracy)\n",
    "    mlp_errors = (data_frame.size/mlp_accuracy)\n",
    "    kmeans_errors = (data_frame.size/kmeans_accuracy)\n",
    "    \n",
    "    #Data = {'Taxa de acerto':   [tree_accuracy, knn_accuracy, knn10_accuracy, mlp_accuracy, kmeans_accuracy]}\n",
    "    \n",
    "    print(Data)\n",
    "    return report"
   ]
  },
  {
   "cell_type": "code",
   "execution_count": 34,
   "metadata": {},
   "outputs": [],
   "source": [
    "#### WEATEHR DATA IMPORT AND SPLIT\n",
    "\n",
    "raw_dataset_path1 = \"./data/weatherAUS.csv\"\n",
    "weather_raw = pd.read_csv( raw_dataset_path1 ,  delimiter=\",\", encoding=\"utf-8-sig\")\n",
    "\n",
    "feature_cols = [ 'MinTemp', 'MaxTemp', 'Rainfall', 'WindGustSpeed', 'WindDir9am', 'WindGustDir','WindDir3pm', 'WindSpeed9am', 'WindSpeed3pm', 'Humidity9am', 'Humidity3pm', 'Pressure9am', 'Pressure3pm', 'Cloud9am', 'Cloud3pm', 'Temp9am', 'Temp3pm', 'RainToday','RainTomorrow']\n",
    "weather_filtered = weather_raw[feature_cols]\n",
    "weather_filtered = weather_filtered.dropna()\n",
    "\n",
    "column_names = ['WindDir9am', 'WindDir3pm', 'WindGustDir', 'RainToday', 'RainTomorrow']\n",
    "label_encoders = {}\n",
    "for column in column_names:\n",
    "    label_encoders[column] = preprocessing.LabelEncoder()\n",
    "    label_encoders[column].fit(weather_filtered[column])\n",
    "    weather_filtered[column] = label_encoders[column].transform(weather_filtered[column])\n",
    "\n",
    "weather_filtered = weather_filtered.sample(frac=1)\n",
    "\n",
    "data_frame = weather_filtered\n",
    "feature_cols = [ 'MinTemp', 'MaxTemp', 'Rainfall', 'WindGustSpeed', 'WindDir9am', 'WindGustDir','WindDir3pm', 'WindSpeed9am', 'WindSpeed3pm', 'Humidity9am', 'Humidity3pm', 'Pressure9am', 'Pressure3pm', 'Cloud9am', 'Cloud3pm', 'Temp9am', 'Temp3pm', 'RainToday']\n",
    "result_col = ['RainTomorrow']\n",
    "\n",
    "### IRIS DATA IMPORT AND SPLIT\n",
    "\n",
    "iris_df = load_iris()\n",
    "iris_x = iris_df.data\n",
    "iris_y = iris_df.target \n",
    "test_ids = np.random.permutation(len(iris_x))\n",
    "x_train = iris_x[test_ids[:-30]]\n",
    "x_test = iris_x[test_ids[-30:]]\n",
    "y_train = iris_y[test_ids[:-30]]\n",
    "y_test = iris_y[test_ids[-30:]]\n",
    "\n"
   ]
  },
  {
   "cell_type": "code",
   "execution_count": 37,
   "metadata": {
    "scrolled": true
   },
   "outputs": [],
   "source": [
    "%%capture\n",
    "data = split_data(data_frame, feature_cols, result_col)\n",
    "report_weather = ml_tasks(data['X_train'], data['X_test'], data['y_train'], data['y_test'],2)\n",
    "report_iris = ml_tasks(x_train, x_test, y_train, y_test,3)\n",
    "\n"
   ]
  },
  {
   "cell_type": "markdown",
   "metadata": {},
   "source": [
    "## Relatório de desempenho dos algorítimos\n",
    "\n",
    "Abaixo, segue os resultados da execução dos algoritmos para o dataset `iris` e o de `clima na austrália`."
   ]
  },
  {
   "cell_type": "markdown",
   "metadata": {},
   "source": [
    "## Weather Aus\n",
    "\n",
    "Uma série de atributos de clima irão ser utilizados para responder a pergunta `Choverá amanhã?`.\n",
    "\n",
    "#### Resultados Algoritmos: "
   ]
  },
  {
   "cell_type": "code",
   "execution_count": 42,
   "metadata": {},
   "outputs": [
    {
     "data": {
      "text/html": [
       "<div>\n",
       "<style scoped>\n",
       "    .dataframe tbody tr th:only-of-type {\n",
       "        vertical-align: middle;\n",
       "    }\n",
       "\n",
       "    .dataframe tbody tr th {\n",
       "        vertical-align: top;\n",
       "    }\n",
       "\n",
       "    .dataframe thead th {\n",
       "        text-align: right;\n",
       "    }\n",
       "</style>\n",
       "<table border=\"1\" class=\"dataframe\">\n",
       "  <thead>\n",
       "    <tr style=\"text-align: right;\">\n",
       "      <th></th>\n",
       "      <th>0</th>\n",
       "    </tr>\n",
       "  </thead>\n",
       "  <tbody>\n",
       "    <tr>\n",
       "      <th>Tree</th>\n",
       "      <td>78.218031</td>\n",
       "    </tr>\n",
       "    <tr>\n",
       "      <th>Knn5</th>\n",
       "      <td>83.271166</td>\n",
       "    </tr>\n",
       "    <tr>\n",
       "      <th>knn10</th>\n",
       "      <td>84.094588</td>\n",
       "    </tr>\n",
       "    <tr>\n",
       "      <th>mlp</th>\n",
       "      <td>82.665916</td>\n",
       "    </tr>\n",
       "    <tr>\n",
       "      <th>kmeans</th>\n",
       "      <td>41.825603</td>\n",
       "    </tr>\n",
       "  </tbody>\n",
       "</table>\n",
       "</div>"
      ],
      "text/plain": [
       "                0\n",
       "Tree    78.218031\n",
       "Knn5    83.271166\n",
       "knn10   84.094588\n",
       "mlp     82.665916\n",
       "kmeans  41.825603"
      ]
     },
     "execution_count": 42,
     "metadata": {},
     "output_type": "execute_result"
    }
   ],
   "source": [
    "report_weather['taxa de acerto']\n",
    "pd.DataFrame.from_dict(report_weather['taxa de acerto'], orient='index')"
   ]
  },
  {
   "cell_type": "markdown",
   "metadata": {},
   "source": [
    "#### Curva de taxa de erro em iterações da MLP:"
   ]
  },
  {
   "cell_type": "code",
   "execution_count": 43,
   "metadata": {},
   "outputs": [
    {
     "data": {
      "text/plain": [
       "[<matplotlib.lines.Line2D at 0x12b419e41d0>]"
      ]
     },
     "execution_count": 43,
     "metadata": {},
     "output_type": "execute_result"
    },
    {
     "data": {
      "image/png": "[encoded data removed]",
      "text/plain": [
       "<Figure size 432x288 with 1 Axes>"
      ]
     },
     "metadata": {
      "needs_background": "light"
     },
     "output_type": "display_data"
    }
   ],
   "source": [
    "plt.ylabel('Custo')\n",
    "plt.xlabel('Iteração')\n",
    "plt.title(\"Learning rate =\" + str(0.001))\n",
    "plt.plot(report_weather['loss_curve'])"
   ]
  },
  {
   "cell_type": "markdown",
   "metadata": {},
   "source": [
    "## Iris\n",
    "\n",
    "#### Resultados Algoritmos: "
   ]
  },
  {
   "cell_type": "code",
   "execution_count": 45,
   "metadata": {},
   "outputs": [
    {
     "data": {
      "text/html": [
       "<div>\n",
       "<style scoped>\n",
       "    .dataframe tbody tr th:only-of-type {\n",
       "        vertical-align: middle;\n",
       "    }\n",
       "\n",
       "    .dataframe tbody tr th {\n",
       "        vertical-align: top;\n",
       "    }\n",
       "\n",
       "    .dataframe thead th {\n",
       "        text-align: right;\n",
       "    }\n",
       "</style>\n",
       "<table border=\"1\" class=\"dataframe\">\n",
       "  <thead>\n",
       "    <tr style=\"text-align: right;\">\n",
       "      <th></th>\n",
       "      <th>0</th>\n",
       "    </tr>\n",
       "  </thead>\n",
       "  <tbody>\n",
       "    <tr>\n",
       "      <th>Tree</th>\n",
       "      <td>78.218031</td>\n",
       "    </tr>\n",
       "    <tr>\n",
       "      <th>Knn5</th>\n",
       "      <td>83.271166</td>\n",
       "    </tr>\n",
       "    <tr>\n",
       "      <th>knn10</th>\n",
       "      <td>84.094588</td>\n",
       "    </tr>\n",
       "    <tr>\n",
       "      <th>mlp</th>\n",
       "      <td>82.665916</td>\n",
       "    </tr>\n",
       "    <tr>\n",
       "      <th>kmeans</th>\n",
       "      <td>41.825603</td>\n",
       "    </tr>\n",
       "  </tbody>\n",
       "</table>\n",
       "</div>"
      ],
      "text/plain": [
       "                0\n",
       "Tree    78.218031\n",
       "Knn5    83.271166\n",
       "knn10   84.094588\n",
       "mlp     82.665916\n",
       "kmeans  41.825603"
      ]
     },
     "execution_count": 45,
     "metadata": {},
     "output_type": "execute_result"
    }
   ],
   "source": [
    "report_iris['taxa de acerto']\n",
    "pd.DataFrame.from_dict(report_weather['taxa de acerto'], orient='index')"
   ]
  },
  {
   "cell_type": "markdown",
   "metadata": {},
   "source": [
    "#### Curva de taxa de erro em iterações da MLP:"
   ]
  },
  {
   "cell_type": "code",
   "execution_count": 46,
   "metadata": {},
   "outputs": [
    {
     "data": {
      "text/plain": [
       "[<matplotlib.lines.Line2D at 0x12b40b1e6a0>]"
      ]
     },
     "execution_count": 46,
     "metadata": {},
     "output_type": "execute_result"
    },
    {
     "data": {
      "image/png": "[encoded data removed]",
      "text/plain": [
       "<Figure size 432x288 with 1 Axes>"
      ]
     },
     "metadata": {
      "needs_background": "light"
     },
     "output_type": "display_data"
    }
   ],
   "source": [
    "plt.ylabel('Custo')\n",
    "plt.xlabel('Iteração')\n",
    "plt.title(\"Learning rate =\" + str(0.001))\n",
    "plt.plot(report_iris['loss_curve'])"
   ]
  }
 ],
 "metadata": {
  "colab": {
   "collapsed_sections": [],
   "name": "Projeto de Tópicos especiais",
   "provenance": [],
   "toc_visible": true,
   "version": "0.3.2"
  },
  "kernelspec": {
   "display_name": "Python 3",
   "language": "python",
   "name": "python3"
  },
  "language_info": {
   "codemirror_mode": {
    "name": "ipython",
    "version": 3
   },
   "file_extension": ".py",
   "mimetype": "text/x-python",
   "name": "python",
   "nbconvert_exporter": "python",
   "pygments_lexer": "ipython3",
   "version": "3.7.0"
  }
 },
 "nbformat": 4,
 "nbformat_minor": 1
}
